{
 "cells": [
  {
   "cell_type": "code",
   "execution_count": 6,
   "id": "f33287e6",
   "metadata": {},
   "outputs": [],
   "source": [
    "def test1(*ast):\n",
    "    \"\"\"we can pass multiple orgument\"\"\"\n",
    "    return ast"
   ]
  },
  {
   "cell_type": "code",
   "execution_count": 7,
   "id": "d6c9a5c5",
   "metadata": {},
   "outputs": [],
   "source": [
    "a=[4,57,5,8,65,8,2,8,6, \"shubh\",\"meritorium\"]"
   ]
  },
  {
   "cell_type": "code",
   "execution_count": 8,
   "id": "b97493f4",
   "metadata": {},
   "outputs": [
    {
     "data": {
      "text/plain": [
       "([4, 57, 5, 8, 65, 8, 2, 8, 6, 'shubh', 'meritorium'],)"
      ]
     },
     "execution_count": 8,
     "metadata": {},
     "output_type": "execute_result"
    }
   ],
   "source": [
    "test1(a)"
   ]
  },
  {
   "cell_type": "code",
   "execution_count": 15,
   "id": "b073648b",
   "metadata": {},
   "outputs": [
    {
     "name": "stdout",
     "output_type": "stream",
     "text": [
      "python_version\n",
      "3.11.5 | packaged by Anaconda, Inc. | (main, Sep 11 2023, 13:26:23) [MSC v.1916 64 bit (AMD64)]\n",
      "version info.\n",
      "sys.version_info(major=3, minor=11, micro=5, releaselevel='final', serial=0)\n"
     ]
    }
   ],
   "source": [
    "import sys\n",
    "\n",
    "print(\"python_version\")\n",
    "print(sys.version)\n",
    "print(\"version info.\")\n",
    "print(sys.version_info)"
   ]
  },
  {
   "cell_type": "code",
   "execution_count": 17,
   "id": "e16563cc",
   "metadata": {},
   "outputs": [
    {
     "ename": "ModuleNotFoundError",
     "evalue": "No module named 'Datetime'",
     "output_type": "error",
     "traceback": [
      "\u001b[1;31m---------------------------------------------------------------------------\u001b[0m",
      "\u001b[1;31mModuleNotFoundError\u001b[0m                       Traceback (most recent call last)",
      "Cell \u001b[1;32mIn[17], line 1\u001b[0m\n\u001b[1;32m----> 1\u001b[0m \u001b[38;5;28;01mimport\u001b[39;00m \u001b[38;5;21;01mDatetime\u001b[39;00m\n\u001b[0;32m      2\u001b[0m \u001b[38;5;28mprint\u001b[39m(datetime\u001b[38;5;241m.\u001b[39mtoday)\n",
      "\u001b[1;31mModuleNotFoundError\u001b[0m: No module named 'Datetime'"
     ]
    }
   ],
   "source": [
    "import Datetime\n",
    "print(datetime.today)"
   ]
  },
  {
   "cell_type": "code",
   "execution_count": 18,
   "id": "29588166",
   "metadata": {},
   "outputs": [
    {
     "name": "stdout",
     "output_type": "stream",
     "text": [
      "2023-12-16 10:36:10.996064\n"
     ]
    }
   ],
   "source": [
    "import datetime \n",
    "curent_datetime = datetime.datetime.now()\n",
    "print(curent_datetime)"
   ]
  },
  {
   "cell_type": "code",
   "execution_count": 19,
   "id": "af422249",
   "metadata": {},
   "outputs": [],
   "source": [
    "def test0(**BioData):\n",
    "    return BioData"
   ]
  },
  {
   "cell_type": "code",
   "execution_count": 20,
   "id": "7d86c2e2",
   "metadata": {},
   "outputs": [
    {
     "data": {
      "text/plain": [
       "{'Name': 'Shubham Asaram Vaidya',\n",
       " 'Age': 28,\n",
       " 'Email_Id': 'shubham.vaidya123@gmail.com',\n",
       " 'Phone_number': 8308302285,\n",
       " 'Adr': 'At- Borgaon khurd Po- Pahela Tah+Dist - Bhandara '}"
      ]
     },
     "execution_count": 20,
     "metadata": {},
     "output_type": "execute_result"
    }
   ],
   "source": [
    "test0(Name = \"Shubham Asaram Vaidya\",Age= 28, Email_Id= \"shubham.vaidya123@gmail.com\", Phone_number = 8308302285, Adr= \"At- Borgaon khurd Po- Pahela Tah+Dist - Bhandara \")"
   ]
  },
  {
   "cell_type": "code",
   "execution_count": 21,
   "id": "9c6863d9",
   "metadata": {},
   "outputs": [],
   "source": [
    "def test3(a,b):\n",
    "    return a*b"
   ]
  },
  {
   "cell_type": "code",
   "execution_count": 23,
   "id": "527ac15d",
   "metadata": {},
   "outputs": [
    {
     "data": {
      "text/plain": [
       "225"
      ]
     },
     "execution_count": 23,
     "metadata": {},
     "output_type": "execute_result"
    }
   ],
   "source": [
    "test3(15,15)"
   ]
  },
  {
   "cell_type": "code",
   "execution_count": 26,
   "id": "757c7d38",
   "metadata": {},
   "outputs": [],
   "source": [
    "a =lambda a, b,c :(a*b*c)"
   ]
  },
  {
   "cell_type": "code",
   "execution_count": 28,
   "id": "9387f70b",
   "metadata": {},
   "outputs": [
    {
     "data": {
      "text/plain": [
       "4900"
      ]
     },
     "execution_count": 28,
     "metadata": {},
     "output_type": "execute_result"
    }
   ],
   "source": [
    "a(14,25,14)"
   ]
  },
  {
   "cell_type": "code",
   "execution_count": 30,
   "id": "3707dd86",
   "metadata": {},
   "outputs": [],
   "source": [
    "a=lambda a,b :(a/b)"
   ]
  },
  {
   "cell_type": "code",
   "execution_count": 32,
   "id": "17e09365",
   "metadata": {},
   "outputs": [
    {
     "data": {
      "text/plain": [
       "3.0"
      ]
     },
     "execution_count": 32,
     "metadata": {},
     "output_type": "execute_result"
    }
   ],
   "source": [
    "a(15,5)"
   ]
  },
  {
   "cell_type": "code",
   "execution_count": 1,
   "id": "3b70525b",
   "metadata": {},
   "outputs": [
    {
     "data": {
      "text/plain": [
       "range(0, 5)"
      ]
     },
     "execution_count": 1,
     "metadata": {},
     "output_type": "execute_result"
    }
   ],
   "source": [
    "range(5)"
   ]
  },
  {
   "cell_type": "code",
   "execution_count": 2,
   "id": "5b3c701d",
   "metadata": {},
   "outputs": [
    {
     "data": {
      "text/plain": [
       "[0, 1, 2, 3, 4]"
      ]
     },
     "execution_count": 2,
     "metadata": {},
     "output_type": "execute_result"
    }
   ],
   "source": [
    "list(range(5))"
   ]
  },
  {
   "cell_type": "code",
   "execution_count": 3,
   "id": "6410bb89",
   "metadata": {},
   "outputs": [],
   "source": [
    "l =[1,2,3,4,5,6,7,8,9]"
   ]
  },
  {
   "cell_type": "code",
   "execution_count": 4,
   "id": "76c4a9ee",
   "metadata": {},
   "outputs": [],
   "source": [
    " def fib(n):\n",
    "        a= 1\n",
    "        b=1\n",
    "        for i in range(n):\n",
    "            yield a,i\n",
    "            a,b= a,a+b"
   ]
  },
  {
   "cell_type": "code",
   "execution_count": 5,
   "id": "1bcb402b",
   "metadata": {},
   "outputs": [
    {
     "data": {
      "text/plain": [
       "<generator object fib at 0x0000021A164817B0>"
      ]
     },
     "execution_count": 5,
     "metadata": {},
     "output_type": "execute_result"
    }
   ],
   "source": [
    "fib(l)"
   ]
  },
  {
   "cell_type": "code",
   "execution_count": 6,
   "id": "0f18cb36",
   "metadata": {},
   "outputs": [],
   "source": [
    "def fab1(n):\n",
    "    a= 1\n",
    "    b=1\n",
    "    for i in range(n):\n",
    "        yield a,i\n",
    "        a,b= b, b+a"
   ]
  },
  {
   "cell_type": "code",
   "execution_count": 8,
   "id": "4354ad92",
   "metadata": {},
   "outputs": [
    {
     "name": "stdout",
     "output_type": "stream",
     "text": [
      "(1, 0)\n",
      "(1, 1)\n",
      "(2, 2)\n",
      "(3, 3)\n",
      "(5, 4)\n",
      "(8, 5)\n",
      "(13, 6)\n",
      "(21, 7)\n",
      "(34, 8)\n",
      "(55, 9)\n",
      "(89, 10)\n",
      "(144, 11)\n",
      "(233, 12)\n",
      "(377, 13)\n",
      "(610, 14)\n",
      "(987, 15)\n",
      "(1597, 16)\n",
      "(2584, 17)\n",
      "(4181, 18)\n",
      "(6765, 19)\n"
     ]
    }
   ],
   "source": [
    "for i in fab1(20):\n",
    "    print(i)"
   ]
  },
  {
   "cell_type": "code",
   "execution_count": 9,
   "id": "518a2604",
   "metadata": {},
   "outputs": [
    {
     "name": "stdout",
     "output_type": "stream",
     "text": [
      "something in console\n"
     ]
    }
   ],
   "source": [
    "print(\"something in console\")"
   ]
  },
  {
   "cell_type": "code",
   "execution_count": 18,
   "id": "c8c35773",
   "metadata": {},
   "outputs": [
    {
     "name": "stdout",
     "output_type": "stream",
     "text": [
      " Volume in drive C has no label.\n",
      " Volume Serial Number is 7408-FD97\n",
      "\n",
      " Directory of C:\\Users\\INTEGRAL COMPUTER\\Documents\n",
      "\n",
      "17-12-2023  11:13 AM    <DIR>          .\n",
      "17-12-2023  11:13 AM    <DIR>          ..\n",
      "16-12-2023  08:05 AM    <DIR>          .ipynb_checkpoints\n",
      "21-09-2023  08:03 AM    <DIR>          Custom Office Templates\n",
      "17-12-2023  11:13 AM            10,049 functions.ipynb\n",
      "12-01-2023  11:30 PM    <DIR>          Inventor Server for AutoCAD\n",
      "08-12-2023  10:12 PM             5,940 list'.ipynb\n",
      "06-09-2023  08:14 PM    <DIR>          NFS Most Wanted\n",
      "10-12-2023  05:51 PM               589 programing.ipynb\n",
      "09-12-2023  09:23 PM         8,560,638 python basic.ipynb\n",
      "29-04-2023  11:24 AM    <DIR>          Python Scripts\n",
      "02-12-2023  01:15 PM    <DIR>          Untitled Folder\n",
      "03-12-2023  11:21 PM             1,688 Untitled.ipynb\n",
      "11-12-2023  10:56 PM         8,585,006 Untitled1.ipynb\n",
      "14-12-2023  09:21 PM            12,492 Untitled2.ipynb\n",
      "15-12-2023  01:33 PM            14,301 Untitled3.ipynb\n",
      "15-12-2023  11:32 AM             4,128 Untitled4.ipynb\n",
      "               9 File(s)     17,194,831 bytes\n",
      "               8 Dir(s)  74,255,769,600 bytes free\n"
     ]
    }
   ],
   "source": [
    "%ls"
   ]
  },
  {
   "cell_type": "code",
   "execution_count": 19,
   "id": "62a23ad6",
   "metadata": {},
   "outputs": [],
   "source": [
    "f = open(\"test.txt\",\"w\")"
   ]
  },
  {
   "cell_type": "code",
   "execution_count": 20,
   "id": "12e6fba6",
   "metadata": {},
   "outputs": [
    {
     "name": "stdout",
     "output_type": "stream",
     "text": [
      " Volume in drive C has no label.\n",
      " Volume Serial Number is 7408-FD97\n",
      "\n",
      " Directory of C:\\Users\\INTEGRAL COMPUTER\\Documents\n",
      "\n",
      "17-12-2023  11:15 AM    <DIR>          .\n",
      "17-12-2023  11:15 AM    <DIR>          ..\n",
      "16-12-2023  08:05 AM    <DIR>          .ipynb_checkpoints\n",
      "21-09-2023  08:03 AM    <DIR>          Custom Office Templates\n",
      "17-12-2023  11:15 AM            10,062 functions.ipynb\n",
      "12-01-2023  11:30 PM    <DIR>          Inventor Server for AutoCAD\n",
      "08-12-2023  10:12 PM             5,940 list'.ipynb\n",
      "06-09-2023  08:14 PM    <DIR>          NFS Most Wanted\n",
      "10-12-2023  05:51 PM               589 programing.ipynb\n",
      "09-12-2023  09:23 PM         8,560,638 python basic.ipynb\n",
      "29-04-2023  11:24 AM    <DIR>          Python Scripts\n",
      "17-12-2023  11:15 AM                 0 test.txt\n",
      "02-12-2023  01:15 PM    <DIR>          Untitled Folder\n",
      "03-12-2023  11:21 PM             1,688 Untitled.ipynb\n",
      "11-12-2023  10:56 PM         8,585,006 Untitled1.ipynb\n",
      "14-12-2023  09:21 PM            12,492 Untitled2.ipynb\n",
      "15-12-2023  01:33 PM            14,301 Untitled3.ipynb\n",
      "15-12-2023  11:32 AM             4,128 Untitled4.ipynb\n",
      "              10 File(s)     17,194,844 bytes\n",
      "               8 Dir(s)  74,259,554,304 bytes free\n"
     ]
    }
   ],
   "source": [
    "%ls"
   ]
  },
  {
   "cell_type": "code",
   "execution_count": 21,
   "id": "5170d35d",
   "metadata": {},
   "outputs": [
    {
     "data": {
      "text/plain": [
       "'C:\\\\Users\\\\INTEGRAL COMPUTER\\\\Documents'"
      ]
     },
     "execution_count": 21,
     "metadata": {},
     "output_type": "execute_result"
    }
   ],
   "source": [
    "pwd"
   ]
  },
  {
   "cell_type": "code",
   "execution_count": 22,
   "id": "745d81a0",
   "metadata": {},
   "outputs": [],
   "source": [
    "f = open(\"shubham.txt\", \"w\")"
   ]
  },
  {
   "cell_type": "code",
   "execution_count": 23,
   "id": "9229235e",
   "metadata": {},
   "outputs": [
    {
     "name": "stdout",
     "output_type": "stream",
     "text": [
      " Volume in drive C has no label.\n",
      " Volume Serial Number is 7408-FD97\n",
      "\n",
      " Directory of C:\\Users\\INTEGRAL COMPUTER\\Documents\n",
      "\n",
      "17-12-2023  11:18 AM    <DIR>          .\n",
      "17-12-2023  11:18 AM    <DIR>          ..\n",
      "16-12-2023  08:05 AM    <DIR>          .ipynb_checkpoints\n",
      "21-09-2023  08:03 AM    <DIR>          Custom Office Templates\n",
      "17-12-2023  11:17 AM            11,932 functions.ipynb\n",
      "12-01-2023  11:30 PM    <DIR>          Inventor Server for AutoCAD\n",
      "08-12-2023  10:12 PM             5,940 list'.ipynb\n",
      "06-09-2023  08:14 PM    <DIR>          NFS Most Wanted\n",
      "10-12-2023  05:51 PM               589 programing.ipynb\n",
      "09-12-2023  09:23 PM         8,560,638 python basic.ipynb\n",
      "29-04-2023  11:24 AM    <DIR>          Python Scripts\n",
      "17-12-2023  11:18 AM                 0 shubham.txt\n",
      "17-12-2023  11:15 AM                 0 test.txt\n",
      "02-12-2023  01:15 PM    <DIR>          Untitled Folder\n",
      "03-12-2023  11:21 PM             1,688 Untitled.ipynb\n",
      "11-12-2023  10:56 PM         8,585,006 Untitled1.ipynb\n",
      "14-12-2023  09:21 PM            12,492 Untitled2.ipynb\n",
      "15-12-2023  01:33 PM            14,301 Untitled3.ipynb\n",
      "15-12-2023  11:32 AM             4,128 Untitled4.ipynb\n",
      "              11 File(s)     17,196,714 bytes\n",
      "               8 Dir(s)  74,259,283,968 bytes free\n"
     ]
    }
   ],
   "source": [
    "%ls"
   ]
  },
  {
   "cell_type": "code",
   "execution_count": 24,
   "id": "a1cc35d1",
   "metadata": {},
   "outputs": [],
   "source": [
    "f = open(\"v.txt\",\"w\")"
   ]
  },
  {
   "cell_type": "code",
   "execution_count": 25,
   "id": "3c31f5a6",
   "metadata": {},
   "outputs": [
    {
     "data": {
      "text/plain": [
       "24"
      ]
     },
     "execution_count": 25,
     "metadata": {},
     "output_type": "execute_result"
    }
   ],
   "source": [
    "f.write(\"this is my 1st operation\")"
   ]
  },
  {
   "cell_type": "code",
   "execution_count": 26,
   "id": "d7a105ac",
   "metadata": {},
   "outputs": [],
   "source": [
    "f.close()"
   ]
  },
  {
   "cell_type": "code",
   "execution_count": 27,
   "id": "88978a26",
   "metadata": {},
   "outputs": [],
   "source": [
    "s = open(\"python.txt\", 'w')"
   ]
  },
  {
   "cell_type": "code",
   "execution_count": 28,
   "id": "afd8bac2",
   "metadata": {},
   "outputs": [
    {
     "data": {
      "text/plain": [
       "29"
      ]
     },
     "execution_count": 28,
     "metadata": {},
     "output_type": "execute_result"
    }
   ],
   "source": [
    "s.write(\"This is advance python class \")"
   ]
  },
  {
   "cell_type": "code",
   "execution_count": 29,
   "id": "a539c51b",
   "metadata": {},
   "outputs": [],
   "source": [
    "s.close()"
   ]
  },
  {
   "cell_type": "code",
   "execution_count": 30,
   "id": "63653b6d",
   "metadata": {},
   "outputs": [
    {
     "name": "stdout",
     "output_type": "stream",
     "text": [
      "Writing s_v.txt\n"
     ]
    }
   ],
   "source": [
    "%%writefile s_v.txt\n",
    "this is the data that i want to store in my file"
   ]
  },
  {
   "cell_type": "code",
   "execution_count": 31,
   "id": "9ade5c4e",
   "metadata": {},
   "outputs": [
    {
     "name": "stdout",
     "output_type": "stream",
     "text": [
      " Volume in drive C has no label.\n",
      " Volume Serial Number is 7408-FD97\n",
      "\n",
      " Directory of C:\\Users\\INTEGRAL COMPUTER\\Documents\n",
      "\n",
      "17-12-2023  11:54 AM    <DIR>          .\n",
      "17-12-2023  11:54 AM    <DIR>          ..\n",
      "16-12-2023  08:05 AM    <DIR>          .ipynb_checkpoints\n",
      "21-09-2023  08:03 AM    <DIR>          Custom Office Templates\n",
      "17-12-2023  11:53 AM            15,611 functions.ipynb\n",
      "12-01-2023  11:30 PM    <DIR>          Inventor Server for AutoCAD\n",
      "08-12-2023  10:12 PM             5,940 list'.ipynb\n",
      "06-09-2023  08:14 PM    <DIR>          NFS Most Wanted\n",
      "10-12-2023  05:51 PM               589 programing.ipynb\n",
      "09-12-2023  09:23 PM         8,560,638 python basic.ipynb\n",
      "29-04-2023  11:24 AM    <DIR>          Python Scripts\n",
      "17-12-2023  11:50 AM                29 python.txt\n",
      "17-12-2023  11:54 AM                50 s_v.txt\n",
      "02-12-2023  01:15 PM    <DIR>          Untitled Folder\n",
      "03-12-2023  11:21 PM             1,688 Untitled.ipynb\n",
      "11-12-2023  10:56 PM         8,585,006 Untitled1.ipynb\n",
      "14-12-2023  09:21 PM            12,492 Untitled2.ipynb\n",
      "15-12-2023  01:33 PM            14,301 Untitled3.ipynb\n",
      "15-12-2023  11:32 AM             4,128 Untitled4.ipynb\n",
      "17-12-2023  11:24 AM                24 v.txt\n",
      "              12 File(s)     17,200,496 bytes\n",
      "               8 Dir(s)  74,203,828,224 bytes free\n"
     ]
    }
   ],
   "source": [
    "%ls"
   ]
  },
  {
   "cell_type": "code",
   "execution_count": 32,
   "id": "5d57b021",
   "metadata": {},
   "outputs": [],
   "source": [
    "s = open(\"s_v.txt\")"
   ]
  },
  {
   "cell_type": "code",
   "execution_count": 33,
   "id": "75a97efb",
   "metadata": {},
   "outputs": [
    {
     "data": {
      "text/plain": [
       "'this is the data that i want to store in my file\\n'"
      ]
     },
     "execution_count": 33,
     "metadata": {},
     "output_type": "execute_result"
    }
   ],
   "source": [
    "s.read()"
   ]
  },
  {
   "cell_type": "code",
   "execution_count": 34,
   "id": "1e9e0746",
   "metadata": {},
   "outputs": [
    {
     "data": {
      "text/plain": [
       "''"
      ]
     },
     "execution_count": 34,
     "metadata": {},
     "output_type": "execute_result"
    }
   ],
   "source": [
    "s.read()"
   ]
  },
  {
   "cell_type": "code",
   "execution_count": 35,
   "id": "9f69599d",
   "metadata": {},
   "outputs": [
    {
     "data": {
      "text/plain": [
       "6"
      ]
     },
     "execution_count": 35,
     "metadata": {},
     "output_type": "execute_result"
    }
   ],
   "source": [
    "s.seek(6)"
   ]
  },
  {
   "cell_type": "code",
   "execution_count": 36,
   "id": "e2f2ef57",
   "metadata": {},
   "outputs": [
    {
     "data": {
      "text/plain": [
       "'s the data that i want to store in my file\\n'"
      ]
     },
     "execution_count": 36,
     "metadata": {},
     "output_type": "execute_result"
    }
   ],
   "source": [
    "s.read()"
   ]
  },
  {
   "cell_type": "code",
   "execution_count": 37,
   "id": "438c2f2b",
   "metadata": {},
   "outputs": [
    {
     "data": {
      "text/plain": [
       "0"
      ]
     },
     "execution_count": 37,
     "metadata": {},
     "output_type": "execute_result"
    }
   ],
   "source": [
    "s.seek(0)"
   ]
  },
  {
   "cell_type": "code",
   "execution_count": 38,
   "id": "b922c84a",
   "metadata": {},
   "outputs": [
    {
     "data": {
      "text/plain": [
       "'this is the data that i want to store in my file\\n'"
      ]
     },
     "execution_count": 38,
     "metadata": {},
     "output_type": "execute_result"
    }
   ],
   "source": [
    "s.read()"
   ]
  },
  {
   "cell_type": "code",
   "execution_count": 1,
   "id": "3ea258a4",
   "metadata": {},
   "outputs": [],
   "source": [
    "a = open(\"india.txt\", \"w\")"
   ]
  },
  {
   "cell_type": "code",
   "execution_count": 2,
   "id": "0f6b8c8d",
   "metadata": {},
   "outputs": [
    {
     "data": {
      "text/plain": [
       "13"
      ]
     },
     "execution_count": 2,
     "metadata": {},
     "output_type": "execute_result"
    }
   ],
   "source": [
    "a.write(\"hey i am here\")"
   ]
  },
  {
   "cell_type": "code",
   "execution_count": 3,
   "id": "38bce867",
   "metadata": {},
   "outputs": [],
   "source": [
    "a = open(\"india.txt\")"
   ]
  },
  {
   "cell_type": "code",
   "execution_count": 4,
   "id": "c8b35ed1",
   "metadata": {},
   "outputs": [
    {
     "data": {
      "text/plain": [
       "'hey i am here'"
      ]
     },
     "execution_count": 4,
     "metadata": {},
     "output_type": "execute_result"
    }
   ],
   "source": [
    "a.readline()"
   ]
  },
  {
   "cell_type": "code",
   "execution_count": 5,
   "id": "937077a5",
   "metadata": {},
   "outputs": [
    {
     "data": {
      "text/plain": [
       "''"
      ]
     },
     "execution_count": 5,
     "metadata": {},
     "output_type": "execute_result"
    }
   ],
   "source": [
    "a.readline()"
   ]
  },
  {
   "cell_type": "code",
   "execution_count": 7,
   "id": "48566310",
   "metadata": {},
   "outputs": [
    {
     "data": {
      "text/plain": [
       "0"
      ]
     },
     "execution_count": 7,
     "metadata": {},
     "output_type": "execute_result"
    }
   ],
   "source": [
    "a.seek(0)"
   ]
  },
  {
   "cell_type": "code",
   "execution_count": 8,
   "id": "d79a5789",
   "metadata": {},
   "outputs": [
    {
     "data": {
      "text/plain": [
       "'hey i am here'"
      ]
     },
     "execution_count": 8,
     "metadata": {},
     "output_type": "execute_result"
    }
   ],
   "source": [
    "a.read()"
   ]
  },
  {
   "cell_type": "code",
   "execution_count": 18,
   "id": "d45c5a49",
   "metadata": {},
   "outputs": [],
   "source": [
    "f = open(\"google.txt\", \"w\")"
   ]
  },
  {
   "cell_type": "code",
   "execution_count": 19,
   "id": "b2c1b025",
   "metadata": {},
   "outputs": [
    {
     "data": {
      "text/plain": [
       "598"
      ]
     },
     "execution_count": 19,
     "metadata": {},
     "output_type": "execute_result"
    }
   ],
   "source": [
    "f.write(\"\"\"an American multinational technology company focusing on artificial intelligence,[9] online advertising, search engine technology, cloud computing, computer software, quantum computing, e-commerce, and consumer electronics. It has been referred to as \"the most powerful company in the world\"[10] and as one of the world's most valuable brands due to its market dominance, data collection, and technological advantages in the field of artificial intelligence.[11][12][13] Alongside Amazon, Apple Inc., Meta, and Microsoft, Google's parent company Alphabet Inc. is one of the five Big Tech companies.\"\"\")"
   ]
  },
  {
   "cell_type": "code",
   "execution_count": 12,
   "id": "c178dfe1",
   "metadata": {},
   "outputs": [],
   "source": [
    "f = open(\"google.txt\", \"r+\")"
   ]
  },
  {
   "cell_type": "code",
   "execution_count": 20,
   "id": "ba2229c4",
   "metadata": {},
   "outputs": [
    {
     "ename": "UnsupportedOperation",
     "evalue": "not readable",
     "output_type": "error",
     "traceback": [
      "\u001b[1;31m---------------------------------------------------------------------------\u001b[0m",
      "\u001b[1;31mUnsupportedOperation\u001b[0m                      Traceback (most recent call last)",
      "Cell \u001b[1;32mIn[20], line 1\u001b[0m\n\u001b[1;32m----> 1\u001b[0m f\u001b[38;5;241m.\u001b[39mreadline()\n",
      "\u001b[1;31mUnsupportedOperation\u001b[0m: not readable"
     ]
    }
   ],
   "source": [
    "f.readline()"
   ]
  },
  {
   "cell_type": "code",
   "execution_count": 14,
   "id": "f8962aaf",
   "metadata": {},
   "outputs": [
    {
     "data": {
      "text/plain": [
       "0"
      ]
     },
     "execution_count": 14,
     "metadata": {},
     "output_type": "execute_result"
    }
   ],
   "source": [
    "f.seek(0)"
   ]
  },
  {
   "cell_type": "code",
   "execution_count": 16,
   "id": "54409a65",
   "metadata": {},
   "outputs": [
    {
     "data": {
      "text/plain": [
       "''"
      ]
     },
     "execution_count": 16,
     "metadata": {},
     "output_type": "execute_result"
    }
   ],
   "source": [
    "f.read()"
   ]
  },
  {
   "cell_type": "code",
   "execution_count": 21,
   "id": "0218d5cb",
   "metadata": {},
   "outputs": [
    {
     "data": {
      "text/plain": [
       "598"
      ]
     },
     "execution_count": 21,
     "metadata": {},
     "output_type": "execute_result"
    }
   ],
   "source": [
    "f.tell()"
   ]
  },
  {
   "cell_type": "code",
   "execution_count": 22,
   "id": "c4abc5fc",
   "metadata": {},
   "outputs": [
    {
     "data": {
      "text/plain": [
       "0"
      ]
     },
     "execution_count": 22,
     "metadata": {},
     "output_type": "execute_result"
    }
   ],
   "source": [
    "f.seek(0)"
   ]
  },
  {
   "cell_type": "code",
   "execution_count": 23,
   "id": "dd7ca1f8",
   "metadata": {},
   "outputs": [
    {
     "ename": "UnsupportedOperation",
     "evalue": "not readable",
     "output_type": "error",
     "traceback": [
      "\u001b[1;31m---------------------------------------------------------------------------\u001b[0m",
      "\u001b[1;31mUnsupportedOperation\u001b[0m                      Traceback (most recent call last)",
      "Cell \u001b[1;32mIn[23], line 1\u001b[0m\n\u001b[1;32m----> 1\u001b[0m f\u001b[38;5;241m.\u001b[39mread()\n",
      "\u001b[1;31mUnsupportedOperation\u001b[0m: not readable"
     ]
    }
   ],
   "source": [
    "f.read()"
   ]
  },
  {
   "cell_type": "code",
   "execution_count": 24,
   "id": "afeef110",
   "metadata": {},
   "outputs": [],
   "source": [
    "f.close()"
   ]
  },
  {
   "cell_type": "code",
   "execution_count": 25,
   "id": "18db5b42",
   "metadata": {},
   "outputs": [
    {
     "ename": "ValueError",
     "evalue": "I/O operation on closed file.",
     "output_type": "error",
     "traceback": [
      "\u001b[1;31m---------------------------------------------------------------------------\u001b[0m",
      "\u001b[1;31mValueError\u001b[0m                                Traceback (most recent call last)",
      "Cell \u001b[1;32mIn[25], line 1\u001b[0m\n\u001b[1;32m----> 1\u001b[0m f\u001b[38;5;241m.\u001b[39mread()\n",
      "\u001b[1;31mValueError\u001b[0m: I/O operation on closed file."
     ]
    }
   ],
   "source": [
    "f.read()"
   ]
  },
  {
   "cell_type": "code",
   "execution_count": 33,
   "id": "e5ab190e",
   "metadata": {},
   "outputs": [
    {
     "name": "stdout",
     "output_type": "stream",
     "text": [
      "an American multinational technology company focusing on artificial intelligence,[9] online advertising, search engine technology, cloud computing, computer software, quantum computing, e-commerce, and consumer electronics. It has been referred to as \"the most powerful company in the world\"[10] and as one of the world's most valuable brands due to its market dominance, data collection, and technological advantages in the field of artificial intelligence.[11][12][13] Alongside Amazon, Apple Inc., Meta, and Microsoft, Google's parent company Alphabet Inc. is one of the five Big Tech companies."
     ]
    }
   ],
   "source": [
    "f= open(\"google.txt\", \"r+\")\n",
    "for i in f :\n",
    "    print(i , end= \"\")"
   ]
  },
  {
   "cell_type": "code",
   "execution_count": 27,
   "id": "75b60f75",
   "metadata": {},
   "outputs": [
    {
     "data": {
      "text/plain": [
       "'an American multinational technology company focusing on artificial intelligence,[9] online advertising, search engine technology, cloud computing, computer software, quantum computing, e-commerce, and consumer electronics. It has been referred to as \"the most powerful company in the world\"[10] and as one of the world\\'s most valuable brands due to its market dominance, data collection, and technological advantages in the field of artificial intelligence.[11][12][13] Alongside Amazon, Apple Inc., Meta, and Microsoft, Google\\'s parent company Alphabet Inc. is one of the five Big Tech companies.'"
      ]
     },
     "execution_count": 27,
     "metadata": {},
     "output_type": "execute_result"
    }
   ],
   "source": [
    "f.read()"
   ]
  },
  {
   "cell_type": "code",
   "execution_count": 28,
   "id": "894c1e0b",
   "metadata": {},
   "outputs": [
    {
     "data": {
      "text/plain": [
       "0"
      ]
     },
     "execution_count": 28,
     "metadata": {},
     "output_type": "execute_result"
    }
   ],
   "source": [
    "f.seek(0)"
   ]
  },
  {
   "cell_type": "code",
   "execution_count": 29,
   "id": "3f356836",
   "metadata": {},
   "outputs": [
    {
     "data": {
      "text/plain": [
       "'an American multinational technology company focusing on artificial intelligence,[9] online advertising, search engine technology, cloud computing, computer software, quantum computing, e-commerce, and consumer electronics. It has been referred to as \"the most powerful company in the world\"[10] and as one of the world\\'s most valuable brands due to its market dominance, data collection, and technological advantages in the field of artificial intelligence.[11][12][13] Alongside Amazon, Apple Inc., Meta, and Microsoft, Google\\'s parent company Alphabet Inc. is one of the five Big Tech companies.'"
      ]
     },
     "execution_count": 29,
     "metadata": {},
     "output_type": "execute_result"
    }
   ],
   "source": [
    "f.readline()"
   ]
  },
  {
   "cell_type": "code",
   "execution_count": 31,
   "id": "d4a3f5f2",
   "metadata": {},
   "outputs": [],
   "source": [
    "f.close()"
   ]
  },
  {
   "cell_type": "code",
   "execution_count": 38,
   "id": "fcf2ae5d",
   "metadata": {},
   "outputs": [],
   "source": [
    "def test1(n):\n",
    "    a=0\n",
    "    b=1\n",
    "    for i in range(n):\n",
    "        yield a, i\n",
    "        a,b = b, b+a"
   ]
  },
  {
   "cell_type": "code",
   "execution_count": 35,
   "id": "5310ff5f",
   "metadata": {},
   "outputs": [
    {
     "data": {
      "text/plain": [
       "<generator object test1 at 0x000002B65D82AC50>"
      ]
     },
     "execution_count": 35,
     "metadata": {},
     "output_type": "execute_result"
    }
   ],
   "source": [
    "test1(20)"
   ]
  },
  {
   "cell_type": "code",
   "execution_count": 39,
   "id": "337dd0b0",
   "metadata": {},
   "outputs": [
    {
     "name": "stdout",
     "output_type": "stream",
     "text": [
      "(0, 0)\n",
      "(1, 1)\n",
      "(1, 2)\n",
      "(2, 3)\n",
      "(3, 4)\n",
      "(5, 5)\n",
      "(8, 6)\n",
      "(13, 7)\n",
      "(21, 8)\n",
      "(34, 9)\n",
      "(55, 10)\n",
      "(89, 11)\n",
      "(144, 12)\n",
      "(233, 13)\n",
      "(377, 14)\n",
      "(610, 15)\n",
      "(987, 16)\n",
      "(1597, 17)\n",
      "(2584, 18)\n",
      "(4181, 19)\n"
     ]
    }
   ],
   "source": [
    "for i in test1(20):\n",
    "    print(i)"
   ]
  },
  {
   "cell_type": "code",
   "execution_count": null,
   "id": "e10efa27",
   "metadata": {},
   "outputs": [],
   "source": []
  }
 ],
 "metadata": {
  "kernelspec": {
   "display_name": "Python 3 (ipykernel)",
   "language": "python",
   "name": "python3"
  },
  "language_info": {
   "codemirror_mode": {
    "name": "ipython",
    "version": 3
   },
   "file_extension": ".py",
   "mimetype": "text/x-python",
   "name": "python",
   "nbconvert_exporter": "python",
   "pygments_lexer": "ipython3",
   "version": "3.11.5"
  }
 },
 "nbformat": 4,
 "nbformat_minor": 5
}
